{
  "nbformat": 4,
  "nbformat_minor": 0,
  "metadata": {
    "colab": {
      "name": "Untitled0.ipynb",
      "provenance": [],
      "collapsed_sections": [],
      "authorship_tag": "ABX9TyNS7Lcv4etIdcUcR/U44ycN",
      "include_colab_link": true
    },
    "kernelspec": {
      "name": "python3",
      "display_name": "Python 3"
    },
    "language_info": {
      "name": "python"
    }
  },
  "cells": [
    {
      "cell_type": "markdown",
      "metadata": {
        "id": "view-in-github",
        "colab_type": "text"
      },
      "source": [
        "<a href=\"https://colab.research.google.com/github/RochmatIndrajaya/Pemrosesan-Bahasa-Alami-18102284-MM1/blob/main/Untitled0.ipynb\" target=\"_parent\"><img src=\"https://colab.research.google.com/assets/colab-badge.svg\" alt=\"Open In Colab\"/></a>"
      ]
    },
    {
      "cell_type": "code",
      "metadata": {
        "id": "fKShQFghMkEN"
      },
      "source": [
        "#set konfigurasi googledrive Rochmat Indrajaya MM1 18102284\n",
        "from google.colab import drive"
      ],
      "execution_count": null,
      "outputs": []
    },
    {
      "cell_type": "code",
      "metadata": {
        "colab": {
          "base_uri": "https://localhost:8080/"
        },
        "id": "tNPVVz-cMqKP",
        "outputId": "0cf766d7-d202-4080-f347-4737f098fa84"
      },
      "source": [
        "drive.mount('/content/drive')\n",
        "file_url = '/content/drive/My Drive/TugasNLP/Spamfilteringsederhana/SMSSpamCollection.txt'\n"
      ],
      "execution_count": null,
      "outputs": [
        {
          "output_type": "stream",
          "text": [
            "Mounted at /content/drive\n"
          ],
          "name": "stdout"
        }
      ]
    },
    {
      "cell_type": "code",
      "metadata": {
        "colab": {
          "base_uri": "https://localhost:8080/",
          "height": 204
        },
        "id": "UKFL7omQSxUQ",
        "outputId": "84586d5b-6400-45bd-d512-b0a86d2048f9"
      },
      "source": [
        "import pandas as pd\n",
        "data = pd.read_csv(file_url, sep = '\\t', header=None, names=[\"label\", \"sms\"])\n",
        "data.head()"
      ],
      "execution_count": null,
      "outputs": [
        {
          "output_type": "execute_result",
          "data": {
            "text/html": [
              "<div>\n",
              "<style scoped>\n",
              "    .dataframe tbody tr th:only-of-type {\n",
              "        vertical-align: middle;\n",
              "    }\n",
              "\n",
              "    .dataframe tbody tr th {\n",
              "        vertical-align: top;\n",
              "    }\n",
              "\n",
              "    .dataframe thead th {\n",
              "        text-align: right;\n",
              "    }\n",
              "</style>\n",
              "<table border=\"1\" class=\"dataframe\">\n",
              "  <thead>\n",
              "    <tr style=\"text-align: right;\">\n",
              "      <th></th>\n",
              "      <th>label</th>\n",
              "      <th>sms</th>\n",
              "    </tr>\n",
              "  </thead>\n",
              "  <tbody>\n",
              "    <tr>\n",
              "      <th>0</th>\n",
              "      <td>ham</td>\n",
              "      <td>Go until jurong point, crazy.. Available only ...</td>\n",
              "    </tr>\n",
              "    <tr>\n",
              "      <th>1</th>\n",
              "      <td>ham</td>\n",
              "      <td>Ok lar... Joking wif u oni...</td>\n",
              "    </tr>\n",
              "    <tr>\n",
              "      <th>2</th>\n",
              "      <td>spam</td>\n",
              "      <td>Free entry in 2 a wkly comp to win FA Cup fina...</td>\n",
              "    </tr>\n",
              "    <tr>\n",
              "      <th>3</th>\n",
              "      <td>ham</td>\n",
              "      <td>U dun say so early hor... U c already then say...</td>\n",
              "    </tr>\n",
              "    <tr>\n",
              "      <th>4</th>\n",
              "      <td>ham</td>\n",
              "      <td>Nah I don't think he goes to usf, he lives aro...</td>\n",
              "    </tr>\n",
              "  </tbody>\n",
              "</table>\n",
              "</div>"
            ],
            "text/plain": [
              "  label                                                sms\n",
              "0   ham  Go until jurong point, crazy.. Available only ...\n",
              "1   ham                      Ok lar... Joking wif u oni...\n",
              "2  spam  Free entry in 2 a wkly comp to win FA Cup fina...\n",
              "3   ham  U dun say so early hor... U c already then say...\n",
              "4   ham  Nah I don't think he goes to usf, he lives aro..."
            ]
          },
          "metadata": {
            "tags": []
          },
          "execution_count": 3
        }
      ]
    },
    {
      "cell_type": "code",
      "metadata": {
        "colab": {
          "base_uri": "https://localhost:8080/"
        },
        "id": "cWAWgZk4Zvz_",
        "outputId": "e09d80ac-4300-4daa-c18b-bbe7cd047c09"
      },
      "source": [
        "#PraProses\n",
        "import string\n",
        "import nltk\n",
        "nltk.download('stopwords')\n",
        "nltk.download('punkt')\n",
        "\n",
        "stopwords = nltk.corpus.stopwords.words('english')\n",
        "punctuation = string.punctuation\n",
        "\n",
        "print(stopwords[:5])\n",
        "print(punctuation)"
      ],
      "execution_count": 4,
      "outputs": [
        {
          "output_type": "stream",
          "text": [
            "[nltk_data] Downloading package stopwords to /root/nltk_data...\n",
            "[nltk_data]   Unzipping corpora/stopwords.zip.\n",
            "[nltk_data] Downloading package punkt to /root/nltk_data...\n",
            "[nltk_data]   Unzipping tokenizers/punkt.zip.\n",
            "['i', 'me', 'my', 'myself', 'we']\n",
            "!\"#$%&'()*+,-./:;<=>?@[\\]^_`{|}~\n"
          ],
          "name": "stdout"
        }
      ]
    },
    {
      "cell_type": "code",
      "metadata": {
        "colab": {
          "base_uri": "https://localhost:8080/"
        },
        "id": "rNTQOpgDZ5fu",
        "outputId": "faa83e68-8671-4359-c025-b728bec0adcb"
      },
      "source": [
        "def pre_process(sms):\n",
        "    remove_punct = \"\".join([word.lower() for word in sms if word not in punctuation])\n",
        "    tokenize = nltk.tokenize.word_tokenize(remove_punct)\n",
        "    remove_stopwords = [word for word in tokenize if word not in stopwords]\n",
        "    return remove_stopwords\n",
        "\n",
        "#adding a column to our data with our processed messages\n",
        "data['processed'] = data['sms'].apply(lambda x: pre_process(x))\n",
        "\n",
        "print(data['processed'].head())"
      ],
      "execution_count": 5,
      "outputs": [
        {
          "output_type": "stream",
          "text": [
            "0    [go, jurong, point, crazy, available, bugis, n...\n",
            "1                       [ok, lar, joking, wif, u, oni]\n",
            "2    [free, entry, 2, wkly, comp, win, fa, cup, fin...\n",
            "3        [u, dun, say, early, hor, u, c, already, say]\n",
            "4    [nah, dont, think, goes, usf, lives, around, t...\n",
            "Name: processed, dtype: object\n"
          ],
          "name": "stdout"
        }
      ]
    },
    {
      "cell_type": "code",
      "metadata": {
        "colab": {
          "base_uri": "https://localhost:8080/"
        },
        "id": "XSl1DqM7aErN",
        "outputId": "c57c9a60-9d12-483f-f581-b27efcb494d9"
      },
      "source": [
        "#menghitung token, dan menentukan threshold\n",
        "\n",
        "def categorize_words():\n",
        "    spam_words = []\n",
        "    ham_words = []\n",
        "    #memproses pesan spam\n",
        "    for sms in data['processed'][data['label'] == 'spam']:\n",
        "        for word in sms:\n",
        "            spam_words.append(word)\n",
        "    #memproses pesan ham\n",
        "    for sms in data['processed'][data['label'] == 'ham']:\n",
        "        for word in sms:\n",
        "            ham_words.append(word)\n",
        "    return spam_words, ham_words\n",
        "\n",
        "spam_words, ham_words = categorize_words()\n",
        "\n",
        "print(spam_words[:5])\n",
        "print(ham_words[:5])\n"
      ],
      "execution_count": 6,
      "outputs": [
        {
          "output_type": "stream",
          "text": [
            "['free', 'entry', '2', 'wkly', 'comp']\n",
            "['go', 'jurong', 'point', 'crazy', 'available']\n"
          ],
          "name": "stdout"
        }
      ]
    },
    {
      "cell_type": "code",
      "metadata": {
        "colab": {
          "base_uri": "https://localhost:8080/",
          "height": 163
        },
        "id": "McF6jpvYamqf",
        "outputId": "21ea35fa-a786-4857-dc3e-c97ddf2eb3ef"
      },
      "source": [
        "#prediksi fungsi threshold 5:5 x 100 = {}%\n",
        "def predict(sms):\n",
        "    spam_counter = 0\n",
        "    ham_counter = 0\n",
        "    #hitung kemunculan kata dalam sms\n",
        "    for word in sms:\n",
        "        spam_counter += spam_words.count(word)\n",
        "        ham_counter += ham_words.count(word)\n",
        "    print('**HASIL AKHIR**')\n",
        "    #pesan spam di * 100\n",
        "    if ham_counter > spam_counter:\n",
        "        accuracy = round((ham_counter / (ham_counter + spam_counter) * 100))\n",
        "        print('pesan tidak mengandung spam, angka keputusan {}%'.format(accuracy))\n",
        "    #pesan ditampilkan apabila ham atau spam\n",
        "    elif ham_counter == spam_counter:\n",
        "        print('pesan mengandung spam')\n",
        "    #pesan ditampilkan apabila ham atau spam dengan akurasinya\n",
        "    else:\n",
        "        accuracy = round((spam_counter / (ham_counter + spam_counter)* 100))\n",
        "        print('pesan mengandung spam, angka keputusan {}%'.format(accuracy)\n",
        "\n",
        "\n"
      ],
      "execution_count": 10,
      "outputs": [
        {
          "output_type": "error",
          "ename": "SyntaxError",
          "evalue": "ignored",
          "traceback": [
            "\u001b[0;36m  File \u001b[0;32m\"<ipython-input-10-668cddd5d80b>\"\u001b[0;36m, line \u001b[0;32m20\u001b[0m\n\u001b[0;31m    print(' England v Macedonia - dont miss the goals/team news. Txt ur national team to 87077 eg ENGLAND to 87077 Try:WALES, SCOTLAND 4txt/ú1.20 POBOXox36504W45WQ 16+'.format(accuracy)\u001b[0m\n\u001b[0m                                                                                                                                                                                         ^\u001b[0m\n\u001b[0;31mSyntaxError\u001b[0m\u001b[0;31m:\u001b[0m unexpected EOF while parsing\n"
          ]
        }
      ]
    },
    {
      "cell_type": "code",
      "metadata": {
        "colab": {
          "base_uri": "https://localhost:8080/"
        },
        "id": "SBDGYfZFc5bT",
        "outputId": "d7a2357f-5a16-464b-bb81-b8783ce43d23"
      },
      "source": [
        "user_input = input(\"Inputkan spam atau ham guna memeriksa keakuratan fungsi\\n\")"
      ],
      "execution_count": 11,
      "outputs": [
        {
          "output_type": "stream",
          "text": [
            "Inputkan spam atau ham guna memeriksa keakuratan fungsi\n",
            "England v Macedonia - dont miss the goals/team news. Txt ur national team to 87077 eg ENGLAND to 87077 Try:WALES, SCOTLAND 4txt/ú1.20 POBOXox36504W45WQ 16+\n"
          ],
          "name": "stdout"
        }
      ]
    },
    {
      "cell_type": "code",
      "metadata": {
        "colab": {
          "base_uri": "https://localhost:8080/",
          "height": 180
        },
        "id": "KJNWp0shdGiM",
        "outputId": "de1846a8-c601-45af-f818-a8e39fd6e7d9"
      },
      "source": [
        "processed_input = pre_process(user_input)\n",
        "predict(processed_input)"
      ],
      "execution_count": 13,
      "outputs": [
        {
          "output_type": "error",
          "ename": "NameError",
          "evalue": "ignored",
          "traceback": [
            "\u001b[0;31m---------------------------------------------------------------------------\u001b[0m",
            "\u001b[0;31mNameError\u001b[0m                                 Traceback (most recent call last)",
            "\u001b[0;32m<ipython-input-13-f507920a27e1>\u001b[0m in \u001b[0;36m<module>\u001b[0;34m()\u001b[0m\n\u001b[1;32m      1\u001b[0m \u001b[0mprocessed_input\u001b[0m \u001b[0;34m=\u001b[0m \u001b[0mpre_process\u001b[0m\u001b[0;34m(\u001b[0m\u001b[0muser_input\u001b[0m\u001b[0;34m)\u001b[0m\u001b[0;34m\u001b[0m\u001b[0;34m\u001b[0m\u001b[0m\n\u001b[0;32m----> 2\u001b[0;31m \u001b[0mpredict\u001b[0m\u001b[0;34m(\u001b[0m\u001b[0mprocessed_input\u001b[0m\u001b[0;34m)\u001b[0m\u001b[0;34m\u001b[0m\u001b[0;34m\u001b[0m\u001b[0m\n\u001b[0m",
            "\u001b[0;31mNameError\u001b[0m: name 'predict' is not defined"
          ]
        }
      ]
    }
  ]
}